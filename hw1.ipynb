{
 "cells": [
  {
   "cell_type": "code",
   "execution_count": 1,
   "metadata": {},
   "outputs": [
    {
     "name": "stdout",
     "output_type": "stream",
     "text": [
      "Hello World!\n"
     ]
    }
   ],
   "source": [
    "#!/usr/bin/env python3\n",
    "# D04_ex00\n",
    "\n",
    "# Create a program that does the following:\n",
    "#     - creates a random integer from 1 - 25\n",
    "#     - asks the user to guess what the number is\n",
    "#     - validates input is a number\n",
    "#     - tells the user if they guess correctly\n",
    "#         - if not: tells them too high/low\n",
    "#     - only lets the user guess five times\n",
    "#         - then ends the program\n",
    "\n",
    "# Please write a docstring for every function you write.\n",
    "\n",
    "###############################################################################\n",
    "# Imports\n",
    "\n",
    "\n",
    "# Body\n",
    "\n",
    "\n",
    "###############################################################################\n",
    "def main():\n",
    "    print(\"Hello World!\")  # Remove this and replace with your function calls\n",
    "\n",
    "\n",
    "if __name__ == '__main__':\n",
    "    main()\n"
   ]
  },
  {
   "cell_type": "code",
   "execution_count": 11,
   "metadata": {},
   "outputs": [
    {
     "name": "stdout",
     "output_type": "stream",
     "text": [
      "18\n"
     ]
    }
   ],
   "source": [
    "from random import randint\n",
    "\n",
    "num = randint(0,26)\n",
    "print(num)"
   ]
  },
  {
   "cell_type": "code",
   "execution_count": 15,
   "metadata": {},
   "outputs": [
    {
     "name": "stdout",
     "output_type": "stream",
     "text": [
      "Guess the number5\n",
      "Too low\n",
      "Guess the number45\n",
      "Too high\n",
      "Guess the numbera\n",
      "Not a valid integer\n",
      "Guess the number3\n",
      "Too low\n",
      "Guess the number6\n",
      "Too low\n",
      "Guess the number8\n",
      "Too low\n"
     ]
    }
   ],
   "source": [
    "tries = 5\n",
    "while tries > 0:\n",
    "    try:\n",
    "        user_input = int(input(\"Guess the number\"))\n",
    "        if user_input == num:\n",
    "            print(\"Correct guess: \", num)\n",
    "            break\n",
    "        else:\n",
    "            if user_input < num:\n",
    "                print(\"Too low\")\n",
    "            else:\n",
    "                print(\"Too high\")\n",
    "            tries -=1\n",
    "    except ValueError:\n",
    "        print(\"Not a valid integer\")"
   ]
  },
  {
   "cell_type": "code",
   "execution_count": null,
   "metadata": {},
   "outputs": [],
   "source": []
  }
 ],
 "metadata": {
  "kernelspec": {
   "display_name": "Python 3",
   "language": "python",
   "name": "python3"
  },
  "language_info": {
   "codemirror_mode": {
    "name": "ipython",
    "version": 3
   },
   "file_extension": ".py",
   "mimetype": "text/x-python",
   "name": "python",
   "nbconvert_exporter": "python",
   "pygments_lexer": "ipython3",
   "version": "3.7.3"
  }
 },
 "nbformat": 4,
 "nbformat_minor": 2
}
