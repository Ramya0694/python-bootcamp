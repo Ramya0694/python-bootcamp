{
 "cells": [
  {
   "cell_type": "code",
   "execution_count": null,
   "metadata": {},
   "outputs": [],
   "source": [
    "# Structure this script entirely on your own.\n",
    "# See Chapter 8: Strings Exercise 5 for the task.\n",
    "# Please do provide function calls that test/demonstrate your\n",
    "# function.\n",
    "# Please write a docstring for every function you write."
   ]
  },
  {
   "cell_type": "markdown",
   "metadata": {},
   "source": [
    "### Function to rotate the string by the length passed"
   ]
  },
  {
   "cell_type": "code",
   "execution_count": 1,
   "metadata": {},
   "outputs": [],
   "source": [
    "def rotate_string(str,length):\n",
    "    rotated_str = \"\"\n",
    "    for char in str:\n",
    "        rotated_str += shifted_char(char,length)\n",
    "        print(rotated_str)"
   ]
  },
  {
   "cell_type": "markdown",
   "metadata": {},
   "source": [
    "#### ord('a') - 97\n",
    "#### ord('z') - 122\n",
    "#### ord('A') - 65\n",
    "#### ord('Z') - 90"
   ]
  },
  {
   "cell_type": "code",
   "execution_count": 35,
   "metadata": {},
   "outputs": [],
   "source": [
    "begin_lowercase = ord('a')\n",
    "end_lowercase = ord('z')\n",
    "begin_uppercase = ord('A')\n",
    "end_uppercase = ord('Z')"
   ]
  },
  {
   "cell_type": "markdown",
   "metadata": {},
   "source": [
    "### Function to rotate a specific upper or lower case character by the specified length"
   ]
  },
  {
   "cell_type": "code",
   "execution_count": 2,
   "metadata": {},
   "outputs": [],
   "source": [
    "def shifted_char(char,length):\n",
    "    if char.islower() == True:\n",
    "        begin = ord('a')\n",
    "        end = ord('z')\n",
    "    else:\n",
    "        begin = ord('A')\n",
    "        end = ord('Z')\n",
    "\n",
    "    if length >= 0:\n",
    "        if end >= ord(char)+length:\n",
    "            return chr(ord(char)+length)\n",
    "        else:\n",
    "            return chr(begin+(length-(end-ord(char)))-1)\n",
    "    else:\n",
    "        if begin <= ord(char)+length:\n",
    "            return chr(ord(char)+length)\n",
    "        else:\n",
    "            length = -length\n",
    "            return chr(end-(length-(ord(char)-begin))+1)"
   ]
  },
  {
   "cell_type": "code",
   "execution_count": 3,
   "metadata": {},
   "outputs": [
    {
     "name": "stdout",
     "output_type": "stream",
     "text": [
      "u\n"
     ]
    }
   ],
   "source": [
    "print(shifted_char(\"e\",-10))"
   ]
  },
  {
   "cell_type": "code",
   "execution_count": 4,
   "metadata": {},
   "outputs": [
    {
     "name": "stdout",
     "output_type": "stream",
     "text": [
      "x\n",
      "xy\n",
      "xyz\n",
      "None\n"
     ]
    }
   ],
   "source": [
    "print(rotate_string(\"abc\",-3))"
   ]
  },
  {
   "cell_type": "code",
   "execution_count": null,
   "metadata": {},
   "outputs": [],
   "source": []
  }
 ],
 "metadata": {
  "kernelspec": {
   "display_name": "Python 3",
   "language": "python",
   "name": "python3"
  },
  "language_info": {
   "codemirror_mode": {
    "name": "ipython",
    "version": 3
   },
   "file_extension": ".py",
   "mimetype": "text/x-python",
   "name": "python",
   "nbconvert_exporter": "python",
   "pygments_lexer": "ipython3",
   "version": "3.7.3"
  }
 },
 "nbformat": 4,
 "nbformat_minor": 2
}
