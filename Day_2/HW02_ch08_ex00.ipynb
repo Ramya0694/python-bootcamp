{
 "cells": [
  {
   "cell_type": "code",
   "execution_count": null,
   "metadata": {},
   "outputs": [],
   "source": [
    "#!/usr/bin/env python3\n",
    "# HW04_ch08_ex00\n",
    "# See 8.7\n",
    "\n",
    "# The following program counts the number of times the letter 'a' appears in a\n",
    "# string:\n",
    "\n",
    "#     word = 'banana'\n",
    "#     count = 0\n",
    "#     for letter in word:\n",
    "#         if letter == 'a':\n",
    "#             count = count + 1\n",
    "#     print(count)\n",
    "\n",
    "# Encapsulate this code in a function named \"count\", and generalize it so that\n",
    "# it accepts the string and the letter as arguments.\n",
    "\n",
    "# Please write a docstring for every function you write."
   ]
  },
  {
   "cell_type": "markdown",
   "metadata": {},
   "source": [
    "### Function to count the number of instances of a character in a string"
   ]
  },
  {
   "cell_type": "code",
   "execution_count": 5,
   "metadata": {},
   "outputs": [],
   "source": [
    "def count(word, search_letter):\n",
    "    count = 0\n",
    "    for letter in word:\n",
    "        if letter == search_letter:\n",
    "            count += 1\n",
    "    print(\"Number of occurences of {0} in {1} is {2}\".format(search_letter, word, count))"
   ]
  },
  {
   "cell_type": "markdown",
   "metadata": {},
   "source": [
    "### Invoking the count function"
   ]
  },
  {
   "cell_type": "code",
   "execution_count": 8,
   "metadata": {},
   "outputs": [
    {
     "name": "stdout",
     "output_type": "stream",
     "text": [
      "Number of occurences of a in banana is 3\n",
      "Number of occurences of s in Mississippi is 4\n",
      "Number of occurences of   in This is a banana is 3\n"
     ]
    }
   ],
   "source": [
    "def main():\n",
    "    count(\"banana\",'a')\n",
    "    count(\"Mississippi\",'s')\n",
    "    count(\"This is a banana\",' ')\n",
    "\n",
    "if __name__ == '__main__':\n",
    "    main()"
   ]
  }
 ],
 "metadata": {
  "kernelspec": {
   "display_name": "Python 3",
   "language": "python",
   "name": "python3"
  },
  "language_info": {
   "codemirror_mode": {
    "name": "ipython",
    "version": 3
   },
   "file_extension": ".py",
   "mimetype": "text/x-python",
   "name": "python",
   "nbconvert_exporter": "python",
   "pygments_lexer": "ipython3",
   "version": "3.7.3"
  }
 },
 "nbformat": 4,
 "nbformat_minor": 2
}
