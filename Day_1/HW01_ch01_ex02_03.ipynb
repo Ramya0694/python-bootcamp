{
 "cells": [
  {
   "cell_type": "code",
   "execution_count": 9,
   "metadata": {},
   "outputs": [],
   "source": [
    "# HW01_ch01_ex02_03\n",
    "# Start the Python interpreter and use it as a calculator.\n",
    "# Python's syntax for math operations is almost the same as\n",
    "# standard mathematical notation. For example, the symbols\n",
    "# +, - and / denote addition, subtraction and division, as you would expect.\n",
    "# The symbol for multiplication is *.\n",
    "\n",
    "# If you run a 10 kilometer race in 42 minutes 42 seconds, what is your\n",
    "# average pace (time per mile in minutes and seconds)? What is your average\n",
    "# speed in miles per hour?\n",
    "\n",
    "# Insert Answers\n",
    "# Average Pace (minutes & seconds per mile): 6 min : 52 s\n",
    "# Average Speed in MPH:  8.72"
   ]
  },
  {
   "cell_type": "markdown",
   "metadata": {},
   "source": [
    "### Function to calculate average pace from distance and time taken"
   ]
  },
  {
   "cell_type": "code",
   "execution_count": 7,
   "metadata": {},
   "outputs": [
    {
     "name": "stdout",
     "output_type": "stream",
     "text": [
      "Pace in mins secs/mile:  6 52\n"
     ]
    }
   ],
   "source": [
    "def avgPace(dist,min,sec):\n",
    "    hrs = (min/60.0)+(sec/3600.0)\n",
    "    pace = hrs/(dist/1.61)\n",
    "    pace_secs = pace * 3600\n",
    "    print(\"Pace in mins secs/mile: \", int(pace_secs/60), int(pace_secs)%60)\n",
    "\n",
    "avgPace(10,42,42)"
   ]
  },
  {
   "cell_type": "markdown",
   "metadata": {},
   "source": [
    "### Function to calculate average speed from distance and time taken"
   ]
  },
  {
   "cell_type": "code",
   "execution_count": 8,
   "metadata": {},
   "outputs": [
    {
     "name": "stdout",
     "output_type": "stream",
     "text": [
      "Speed in miles/hour:  8.727653570337614\n"
     ]
    }
   ],
   "source": [
    "def speed(dist,min,sec):\n",
    "    hrs = (min/60.0)+(sec/3600.0)\n",
    "    speed = (dist/1.61)/hrs\n",
    "    print(\"Speed in miles/hour: \", speed)\n",
    "\n",
    "speed(10,42,42)"
   ]
  }
 ],
 "metadata": {
  "kernelspec": {
   "display_name": "Python 3",
   "language": "python",
   "name": "python3"
  },
  "language_info": {
   "codemirror_mode": {
    "name": "ipython",
    "version": 3
   },
   "file_extension": ".py",
   "mimetype": "text/x-python",
   "name": "python",
   "nbconvert_exporter": "python",
   "pygments_lexer": "ipython3",
   "version": "3.7.3"
  }
 },
 "nbformat": 4,
 "nbformat_minor": 2
}
