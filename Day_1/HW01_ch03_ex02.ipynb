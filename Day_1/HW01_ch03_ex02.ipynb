{
 "cells": [
  {
   "cell_type": "code",
   "execution_count": null,
   "metadata": {},
   "outputs": [],
   "source": [
    "#!/usr/bin/env python\n",
    "# HW02_ch03_ex02\n",
    "\n",
    "# A function object is a value you can assign to a variable or pass as an\n",
    "# argument. For example, do_twice is a function that takes a function object\n",
    "# as an argument and calls it twice:\n",
    "\n",
    "# def do_twice(f):\n",
    "#     f()\n",
    "#     f()\n",
    "\n",
    "# Here's an example that uses `do_twice` to call a function named `print_spam`\n",
    "# twice.\n",
    "# def print_spam():\n",
    "#     print('spam')\n",
    "\n",
    "# do_twice(print_spam)\n",
    "\n",
    "# 1. Type this example into this script and test it.\n",
    "# 2. Modify `do_twice` so that it takes two arguments, a function object and a\n",
    "# value, and calls the function twice, passing the value as an argument.\n",
    "# 3. Write a more general version of `print_spam`, called `print_twice`, that\n",
    "# takes a string as a parameter and prints it twice.\n",
    "# 4. Use the modified version of `do_twice` to call `print_twice` twice,\n",
    "# passing 'spam' as an argument.\n",
    "# 5. Define a new function called `do_four` that takes a function object and a\n",
    "# value and calls the function four times, passing the value as a parameter.\n",
    "# There should be only two statements in the body of this function, not four."
   ]
  },
  {
   "cell_type": "code",
   "execution_count": 4,
   "metadata": {},
   "outputs": [
    {
     "name": "stdout",
     "output_type": "stream",
     "text": [
      "spam\n",
      "spam\n",
      "spam\n",
      "spam\n",
      "spam\n",
      "spam\n",
      "spam\n",
      "spam\n"
     ]
    }
   ],
   "source": [
    "def print_spam(val):\n",
    "    print(val)\n",
    "    \n",
    "def print_twice(val):\n",
    "    print(val)\n",
    "    print(val)\n",
    "    \n",
    "def do_twice(f,val):\n",
    "    f(val)\n",
    "    f(val)\n",
    "    \n",
    "def do_four(f,val):\n",
    "    do_twice(f,val)\n",
    "    do_twice(f,val)\n",
    "    \n",
    "do_four(print_twice,\"spam\")"
   ]
  },
  {
   "cell_type": "code",
   "execution_count": 5,
   "metadata": {},
   "outputs": [
    {
     "name": "stdout",
     "output_type": "stream",
     "text": [
      "spam\n",
      "spam\n",
      "spam\n",
      "spam\n",
      "spam\n",
      "spam\n",
      "spam\n",
      "spam\n"
     ]
    }
   ],
   "source": [
    "def main():\n",
    "    do_four(print_twice,\"spam\")\n",
    "\n",
    "if __name__ == \"__main__\":\n",
    "    main()"
   ]
  }
 ],
 "metadata": {
  "kernelspec": {
   "display_name": "Python 3",
   "language": "python",
   "name": "python3"
  },
  "language_info": {
   "codemirror_mode": {
    "name": "ipython",
    "version": 3
   },
   "file_extension": ".py",
   "mimetype": "text/x-python",
   "name": "python",
   "nbconvert_exporter": "python",
   "pygments_lexer": "ipython3",
   "version": "3.7.3"
  }
 },
 "nbformat": 4,
 "nbformat_minor": 2
}
