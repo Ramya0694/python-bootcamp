{
 "cells": [
  {
   "cell_type": "code",
   "execution_count": 10,
   "metadata": {},
   "outputs": [],
   "source": [
    "#!/usr/bin/env python\n",
    "# HW02_ch03_ex03\n",
    "\n",
    "# This exercise can be done using only the statements and other features we\n",
    "# have learned so far.\n",
    "\n",
    "# (1) Write a function that draws a grid like the following:\n",
    "# + - - - - + - - - - +\n",
    "# |         |         |\n",
    "# |         |         |\n",
    "# |         |         |\n",
    "# |         |         |\n",
    "# + - - - - + - - - - +\n",
    "# |         |         |\n",
    "# |         |         |\n",
    "# |         |         |\n",
    "# |         |         |\n",
    "# + - - - - + - - - - +\n",
    "\n",
    "# Hint: to print more than one value on a line, you can print a\n",
    "# comma-separated sequence of values:\n",
    "\n",
    "# print('+', '-')\n",
    "\n",
    "# By default, print advances to the next line, but you can\n",
    "# override that behavior and put a space at the end, like this:\n",
    "\n",
    "# print('+', end=' ')\n",
    "# print('-')\n",
    "\n",
    "# The output of these statements is '+ -'.\n",
    "\n",
    "# A print statement with no argument ends the current line and\n",
    "# goes to the next line.\n",
    "\n",
    "\n",
    "# (2) Write a function that draws a similar grid with four rows and four\n",
    "# columns."
   ]
  },
  {
   "cell_type": "code",
   "execution_count": 7,
   "metadata": {},
   "outputs": [
    {
     "name": "stdout",
     "output_type": "stream",
     "text": [
      "+----+----+\n",
      "|    |    |\n",
      "|    |    |\n",
      "|    |    |\n",
      "|    |    |\n",
      "+----+----+\n",
      "|    |    |\n",
      "|    |    |\n",
      "|    |    |\n",
      "|    |    |\n",
      "+----+----+\n"
     ]
    }
   ],
   "source": [
    "def draw_grid(rows,cols,num):\n",
    "    for row in range(0,rows):\n",
    "        for col in range(0,cols):\n",
    "            if row%num == 0 and col%num == 0:\n",
    "                print('+',end = '')\n",
    "            elif row%num == 0:\n",
    "                print('-', end = '')\n",
    "            elif col%num == 0:\n",
    "                print('|', end = '')\n",
    "            else:\n",
    "                print(' ', end = '')\n",
    "        print('')\n",
    "        \n",
    "draw_grid(11,11,5)"
   ]
  },
  {
   "cell_type": "markdown",
   "metadata": {},
   "source": [
    "### Function to draw a 2x2 grid"
   ]
  },
  {
   "cell_type": "code",
   "execution_count": 2,
   "metadata": {},
   "outputs": [],
   "source": [
    "def two_by_two():\n",
    "    rows,cols,num = 11,11,5\n",
    "    for row in range(0,rows):\n",
    "        for col in range(0,cols):\n",
    "            if row%num == 0 and col%num == 0:\n",
    "                print('+',end = '')\n",
    "            elif row%num == 0:\n",
    "                print('-', end = '')\n",
    "            elif col%num == 0:\n",
    "                print('|', end = '')\n",
    "            else:\n",
    "                print(' ', end = '')\n",
    "        print('')"
   ]
  },
  {
   "cell_type": "markdown",
   "metadata": {},
   "source": [
    "### Function to draw a 4x4 grid"
   ]
  },
  {
   "cell_type": "code",
   "execution_count": 3,
   "metadata": {},
   "outputs": [],
   "source": [
    "def four_by_four():\n",
    "    rows,cols,num = 21,21,5\n",
    "    for row in range(0,rows):\n",
    "        for col in range(0,cols):\n",
    "            if row%num == 0 and col%num == 0:\n",
    "                print('+',end = '')\n",
    "            elif row%num == 0:\n",
    "                print('-', end = '')\n",
    "            elif col%num == 0:\n",
    "                print('|', end = '')\n",
    "            else:\n",
    "                print(' ', end = '')\n",
    "        print('')"
   ]
  },
  {
   "cell_type": "code",
   "execution_count": 4,
   "metadata": {},
   "outputs": [
    {
     "name": "stdout",
     "output_type": "stream",
     "text": [
      "+----+----+\n",
      "|    |    |\n",
      "|    |    |\n",
      "|    |    |\n",
      "|    |    |\n",
      "+----+----+\n",
      "|    |    |\n",
      "|    |    |\n",
      "|    |    |\n",
      "|    |    |\n",
      "+----+----+\n",
      "+----+----+----+----+\n",
      "|    |    |    |    |\n",
      "|    |    |    |    |\n",
      "|    |    |    |    |\n",
      "|    |    |    |    |\n",
      "+----+----+----+----+\n",
      "|    |    |    |    |\n",
      "|    |    |    |    |\n",
      "|    |    |    |    |\n",
      "|    |    |    |    |\n",
      "+----+----+----+----+\n",
      "|    |    |    |    |\n",
      "|    |    |    |    |\n",
      "|    |    |    |    |\n",
      "|    |    |    |    |\n",
      "+----+----+----+----+\n",
      "|    |    |    |    |\n",
      "|    |    |    |    |\n",
      "|    |    |    |    |\n",
      "|    |    |    |    |\n",
      "+----+----+----+----+\n"
     ]
    }
   ],
   "source": [
    "def main():\n",
    "    \"\"\"Call your functions within this function.\n",
    "    When complete have two function calls in this function:\n",
    "    two_by_two()\n",
    "    four_by_four()\n",
    "    \"\"\"\n",
    "    two_by_two()\n",
    "    four_by_four()\n",
    "\n",
    "if __name__ == \"__main__\":\n",
    "    main()"
   ]
  }
 ],
 "metadata": {
  "kernelspec": {
   "display_name": "Python 3",
   "language": "python",
   "name": "python3"
  },
  "language_info": {
   "codemirror_mode": {
    "name": "ipython",
    "version": 3
   },
   "file_extension": ".py",
   "mimetype": "text/x-python",
   "name": "python",
   "nbconvert_exporter": "python",
   "pygments_lexer": "ipython3",
   "version": "3.7.3"
  }
 },
 "nbformat": 4,
 "nbformat_minor": 2
}
