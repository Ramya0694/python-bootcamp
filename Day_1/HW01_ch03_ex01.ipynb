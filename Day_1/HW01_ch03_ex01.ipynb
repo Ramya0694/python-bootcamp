{
 "cells": [
  {
   "cell_type": "code",
   "execution_count": null,
   "metadata": {},
   "outputs": [],
   "source": [
    "#!/usr/bin/env python\n",
    "# HW02_ch03_ex01\n",
    "\n",
    "# Python provides a built-in function called len that returns the length\n",
    "# of a string, so the value of len('monty') is 5.\n",
    "\n",
    "# Write a function named `right_justify` that takes a string named `s` as a\n",
    "# parameter and prints the string with enough leading spaces so that the\n",
    "# last letter of the string is in column 70 of the display.\n",
    "\n",
    "# Example:\n",
    "# >>> right_justify('monty')\n",
    "#                                                                  monty"
   ]
  },
  {
   "cell_type": "markdown",
   "metadata": {},
   "source": [
    "### Function that right justifies to a length of 70"
   ]
  },
  {
   "cell_type": "code",
   "execution_count": 1,
   "metadata": {},
   "outputs": [],
   "source": [
    "def right_justify(str):\n",
    "    print((70 - len(str))*' ' + str)"
   ]
  },
  {
   "cell_type": "code",
   "execution_count": 2,
   "metadata": {},
   "outputs": [
    {
     "name": "stdout",
     "output_type": "stream",
     "text": [
      "                                                                Python\n",
      "                                                             YOUR_NAME\n"
     ]
    }
   ],
   "source": [
    "def main():\n",
    "    right_justify(\"Python\")\n",
    "    right_justify(\"YOUR_NAME\")\n",
    "\n",
    "if __name__ == \"__main__\":\n",
    "    main()"
   ]
  }
 ],
 "metadata": {
  "kernelspec": {
   "display_name": "Python 3",
   "language": "python",
   "name": "python3"
  },
  "language_info": {
   "codemirror_mode": {
    "name": "ipython",
    "version": 3
   },
   "file_extension": ".py",
   "mimetype": "text/x-python",
   "name": "python",
   "nbconvert_exporter": "python",
   "pygments_lexer": "ipython3",
   "version": "3.7.3"
  }
 },
 "nbformat": 4,
 "nbformat_minor": 2
}
