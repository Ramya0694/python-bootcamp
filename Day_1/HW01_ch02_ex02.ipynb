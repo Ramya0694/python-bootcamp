{
 "cells": [
  {
   "cell_type": "code",
   "execution_count": null,
   "metadata": {},
   "outputs": [],
   "source": [
    "# HW01_ch02_ex02\n",
    "# NOTE: You do not run this script.\n",
    "# #\n",
    "# Practice using the Python interpreter as a calculator.\n",
    "# Paste answer and calculations below"
   ]
  },
  {
   "cell_type": "markdown",
   "metadata": {},
   "source": [
    "### 1. The volume of a sphere with radius r is 4/3 π r^3.\n",
    "### What is the volume of a sphere with radius 5? 523.809\n",
    "### [calculations here]"
   ]
  },
  {
   "cell_type": "code",
   "execution_count": 1,
   "metadata": {},
   "outputs": [],
   "source": [
    "def volOfSphere(radius):\n",
    "    return (4/3)*(22/7)*(radius**3)"
   ]
  },
  {
   "cell_type": "code",
   "execution_count": 2,
   "metadata": {},
   "outputs": [
    {
     "data": {
      "text/plain": [
       "523.8095238095237"
      ]
     },
     "execution_count": 2,
     "metadata": {},
     "output_type": "execute_result"
    }
   ],
   "source": [
    "volOfSphere(5)"
   ]
  },
  {
   "cell_type": "markdown",
   "metadata": {},
   "source": [
    "### 2. Suppose the cover price of a book is 24.95(dollars) , but bookstores get a 40% \n",
    "### discount. Shipping costs 3(dollars) for the first copy and 75 cents for\n",
    "### each additional copy. What is the total wholesale cost for 60 copies?\n",
    "### total wholesale cost: 945.45\n",
    "### [calculations here]"
   ]
  },
  {
   "cell_type": "code",
   "execution_count": 1,
   "metadata": {},
   "outputs": [
    {
     "name": "stdout",
     "output_type": "stream",
     "text": [
      "945.4499999999999\n"
     ]
    }
   ],
   "source": [
    "def selling_price(cost, discount, shipping):\n",
    "    sell_price = (cost*((100-discount)/100))+shipping\n",
    "    return (60*sell_price)+2.25\n",
    "\n",
    "print(selling_price(24.95,40,0.75))"
   ]
  },
  {
   "cell_type": "markdown",
   "metadata": {},
   "source": [
    "### 3. If I leave my house at 6:52 am and run 1 mile at an easy pace\n",
    "### (8:15 per mile), then 3 miles at tempo (7:12 per mile) and 1 mile at easy\n",
    "### pace again, what time do I get home for breakfast?\n",
    "### time: 7:30:06\n",
    "### [calculations here]"
   ]
  },
  {
   "cell_type": "code",
   "execution_count": 7,
   "metadata": {},
   "outputs": [
    {
     "name": "stdout",
     "output_type": "stream",
     "text": [
      "38 6\n"
     ]
    }
   ],
   "source": [
    "seconds = (2*((8*60)+15)) + (3*((7*60) + 12))\n",
    "mins = int(seconds/60)\n",
    "secs = int(seconds%60)\n",
    "\n",
    "print(mins,secs)"
   ]
  },
  {
   "cell_type": "code",
   "execution_count": 6,
   "metadata": {},
   "outputs": [
    {
     "name": "stdout",
     "output_type": "stream",
     "text": [
      "7:30:6\n"
     ]
    }
   ],
   "source": [
    "from datetime import datetime\n",
    "from dateutil.relativedelta import relativedelta\n",
    "\n",
    "def calc_time(mins,secs):\n",
    "    t1 = datetime(year=2019, day=7, month=8, hour=6, minute=52)\n",
    "    t2 = t1 + relativedelta(minutes=mins, seconds=secs)\n",
    "    print(\"{0}:{1}:{2}\".format(t2.time().hour,t2.time().minute,t2.time().second))\n",
    "\n",
    "calc_time(mins,secs)"
   ]
  }
 ],
 "metadata": {
  "kernelspec": {
   "display_name": "Python 3",
   "language": "python",
   "name": "python3"
  },
  "language_info": {
   "codemirror_mode": {
    "name": "ipython",
    "version": 3
   },
   "file_extension": ".py",
   "mimetype": "text/x-python",
   "name": "python",
   "nbconvert_exporter": "python",
   "pygments_lexer": "ipython3",
   "version": "3.7.3"
  }
 },
 "nbformat": 4,
 "nbformat_minor": 2
}
