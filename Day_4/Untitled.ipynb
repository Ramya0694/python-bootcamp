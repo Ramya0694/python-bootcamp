{
 "cells": [
  {
   "cell_type": "code",
   "execution_count": 31,
   "metadata": {},
   "outputs": [
    {
     "name": "stdout",
     "output_type": "stream",
     "text": [
      "[1, 1, 2, 2, 1, 1, 0]\n",
      "['l', 'p', 'h', 'i', 'd']\n"
     ]
    }
   ],
   "source": [
    "words = [\"Python\",\"is\",\"pretty\",\"rad\"]\n",
    "forbidden = list(\"phtridl\")\n",
    "count_list = []\n",
    "excluded_list = []\n",
    "\n",
    "for index in range(0,len(forbidden)):\n",
    "    count_list.append(0)\n",
    "    \n",
    "def find_five():\n",
    "    for word in words:\n",
    "        for index in range(0,len(forbidden)):\n",
    "            if word.find(forbidden[index]) != -1:\n",
    "                count_list[index] = count_list[index] + 1\n",
    "    get_five()\n",
    "    \n",
    "def get_five():\n",
    "    print(count_list)\n",
    "    forbidden_five = \"\"\n",
    "    for index in range(0,5):\n",
    "        minIndex = count_list.index(min(count_list))\n",
    "        count_list.pop(minIndex)\n",
    "        char = forbidden[minIndex]\n",
    "        excluded_list.append(char)\n",
    "        forbidden.remove(char)\n",
    "    print(excluded_list)\n",
    "        \n",
    "find_five()"
   ]
  },
  {
   "cell_type": "code",
   "execution_count": null,
   "metadata": {},
   "outputs": [],
   "source": [
    "words = [\"trampoling\",\"wintering\",\"grains\",\"ringst\"]\n",
    "forbidden = \"\".join(sorted(\"string\"))\n",
    "dict_comb = {}\n",
    "\n",
    "def find_five():\n",
    "    for word in words:\n",
    "        getPatterns(word,forbidden)\n",
    "    print(\"Occurences of 5-letter forbidden combinations : {0}\".format(dict_comb))\n",
    "    maxVal = max(dict_comb.values())\n",
    "    print(\"Combination of 5 forbidden letters that excludes the smallest.\\\n",
    "    number of words : {}\".format([key for key, val in dict_comb.items() if val == maxVal]))       "
   ]
  },
  {
   "cell_type": "code",
   "execution_count": null,
   "metadata": {},
   "outputs": [],
   "source": [
    "from itertools import combinations\n",
    "\n",
    "def getPatterns(word,forbidden):\n",
    "    key = \"\"\n",
    "    val = \"\"\n",
    "    temp_dict = {}\n",
    "    \n",
    "    for char in forbidden:\n",
    "        if word.find(char) != -1:\n",
    "            key += char\n",
    "            \n",
    "    if len(key) == 5:\n",
    "        updateDict(key,val)\n",
    "    elif len(key) > 5:\n",
    "        subkeys = list(combinations(key,5))\n",
    "        for subkey in subkeys:\n",
    "            key = \"\".join(sorted(\"\".join(subkey)))\n",
    "            temp_dict[key] = 1\n",
    "        updateWithTempDict(temp_dict)\n",
    "\n",
    "def updateDict(key,val):\n",
    "    if key in dict_comb.keys():\n",
    "        val = dict_comb[key] + 1\n",
    "    else:\n",
    "        val = 1\n",
    "    dict_comb[key] = val\n",
    "    \n",
    "def updateWithTempDict(temp_dict):\n",
    "    for key in temp_dict.keys():\n",
    "        if key in dict_comb.keys():\n",
    "            val = dict_comb[key] + 1\n",
    "        else:\n",
    "            val = 1\n",
    "        dict_comb[key] = val"
   ]
  },
  {
   "cell_type": "code",
   "execution_count": null,
   "metadata": {},
   "outputs": [],
   "source": [
    "find_five()"
   ]
  }
 ],
 "metadata": {
  "kernelspec": {
   "display_name": "Python 3",
   "language": "python",
   "name": "python3"
  },
  "language_info": {
   "codemirror_mode": {
    "name": "ipython",
    "version": 3
   },
   "file_extension": ".py",
   "mimetype": "text/x-python",
   "name": "python",
   "nbconvert_exporter": "python",
   "pygments_lexer": "ipython3",
   "version": "3.7.3"
  }
 },
 "nbformat": 4,
 "nbformat_minor": 2
}
