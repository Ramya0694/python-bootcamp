{
 "cells": [
  {
   "cell_type": "markdown",
   "metadata": {},
   "source": [
    "### Write a function that reads `roster.txt` and prints the following:\n",
    "\n",
    "```bash\n",
    "\"A list of first and GitHub usernames (User):\"\n",
    "[First User, First User, First User, etc.]\n",
    "\"A list of lists of first and username:\"\n",
    "[[First, User], [First, User], [First, User], etc.]\n",
    "\"A list of first names sorted by length:\"\n",
    "[ShortFirst, LongFirst, LongerFirst, etc.]\n",
    "```"
   ]
  },
  {
   "cell_type": "code",
   "execution_count": 26,
   "metadata": {},
   "outputs": [
    {
     "name": "stdout",
     "output_type": "stream",
     "text": [
      "['Prakhar prakharchandna', 'Tiffany nameistiffyp', 'Mandy mleung32', 'Akshara akshara08', 'Nicole nicoletchi', 'Manasi manasi1994', 'Ramya Ramya0694', 'Max maxmir20', 'Brinda brinsga', 'Yin qyinhelena', 'Min Hyung chung-grace', 'Arika ArikaVerma', 'Esther estherjan', 'Nitin NiStannum', 'Joanne joannejia17']\n",
      "[['Prakhar', 'prakharchandna'], ['Tiffany', 'nameistiffyp'], ['Mandy', 'mleung32'], ['Akshara', 'akshara08'], ['Nicole', 'nicoletchi'], ['Manasi', 'manasi1994'], ['Ramya', 'Ramya0694'], ['Max', 'maxmir20'], ['Brinda', 'brinsga'], ['Yin', 'qyinhelena'], ['Min', 'Hyung', 'chung-grace'], ['Arika', 'ArikaVerma'], ['Esther', 'estherjan'], ['Nitin', 'NiStannum'], ['Joanne', 'joannejia17']]\n",
      "['Max', 'Yin', 'Min', 'Mandy', 'Ramya', 'Arika', 'Nitin', 'Nicole', 'Manasi', 'Brinda', 'Esther', 'Joanne', 'Prakhar', 'Tiffany', 'Akshara']\n",
      "<class '_io.TextIOWrapper'>\n"
     ]
    }
   ],
   "source": [
    "file_handle = open(\"roster.txt\",'r')\n",
    "first_list = []\n",
    "second_list = []\n",
    "third_list = []\n",
    "\n",
    "for line in file_handle:\n",
    "    first_list.append(line.strip())\n",
    "    second_list.append(line.split())\n",
    "    third_list.append(line.split()[0])\n",
    "    third_list.sort(key=len)\n",
    "\n",
    "print(first_list)\n",
    "print(second_list)\n",
    "print(third_list)\n",
    "print(type(file_handle))"
   ]
  },
  {
   "cell_type": "code",
   "execution_count": 28,
   "metadata": {},
   "outputs": [],
   "source": [
    "fourth_list = [\"abc\",\"f\",\"de\"]\n",
    "fourth_list.sort(key = lambda x:x[0])"
   ]
  },
  {
   "cell_type": "code",
   "execution_count": 29,
   "metadata": {},
   "outputs": [
    {
     "name": "stdout",
     "output_type": "stream",
     "text": [
      "['abc', 'de', 'f']\n"
     ]
    }
   ],
   "source": [
    "print(fourth_list)"
   ]
  },
  {
   "cell_type": "code",
   "execution_count": null,
   "metadata": {},
   "outputs": [],
   "source": []
  }
 ],
 "metadata": {
  "kernelspec": {
   "display_name": "Python 3",
   "language": "python",
   "name": "python3"
  },
  "language_info": {
   "codemirror_mode": {
    "name": "ipython",
    "version": 3
   },
   "file_extension": ".py",
   "mimetype": "text/x-python",
   "name": "python",
   "nbconvert_exporter": "python",
   "pygments_lexer": "ipython3",
   "version": "3.7.3"
  }
 },
 "nbformat": 4,
 "nbformat_minor": 2
}
